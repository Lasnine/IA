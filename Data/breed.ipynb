{
 "cells": [
  {
   "cell_type": "markdown",
   "id": "c085c610",
   "metadata": {},
   "source": [
    "# [Documentação dos modelos](https://scikit-learn.org/stable/supervised_learning.html)"
   ]
  },
  {
   "cell_type": "markdown",
   "id": "6a2f9c14",
   "metadata": {},
   "source": [
    "# Read data"
   ]
  },
  {
   "cell_type": "code",
   "execution_count": 5,
   "id": "72f627f3",
   "metadata": {},
   "outputs": [
    {
     "data": {
      "text/html": [
       "<div>\n",
       "<style scoped>\n",
       "    .dataframe tbody tr th:only-of-type {\n",
       "        vertical-align: middle;\n",
       "    }\n",
       "\n",
       "    .dataframe tbody tr th {\n",
       "        vertical-align: top;\n",
       "    }\n",
       "\n",
       "    .dataframe thead th {\n",
       "        text-align: right;\n",
       "    }\n",
       "</style>\n",
       "<table border=\"1\" class=\"dataframe\">\n",
       "  <thead>\n",
       "    <tr style=\"text-align: right;\">\n",
       "      <th></th>\n",
       "      <th>Breed</th>\n",
       "      <th>Age_in_years</th>\n",
       "      <th>Age_in_months</th>\n",
       "      <th>Gender</th>\n",
       "      <th>Neutered_or_spayed</th>\n",
       "      <th>Body_length</th>\n",
       "      <th>Weight</th>\n",
       "      <th>Fur_colour_dominant</th>\n",
       "      <th>Fur_pattern</th>\n",
       "      <th>Eye_colour</th>\n",
       "      <th>Allowed_outdoor</th>\n",
       "      <th>Preferred_food</th>\n",
       "      <th>Owner_play_time_minutes</th>\n",
       "      <th>Sleep_time_hours</th>\n",
       "      <th>Country</th>\n",
       "      <th>Latitude</th>\n",
       "      <th>Longitude</th>\n",
       "    </tr>\n",
       "  </thead>\n",
       "  <tbody>\n",
       "    <tr>\n",
       "      <th>0</th>\n",
       "      <td>Angora</td>\n",
       "      <td>0.25</td>\n",
       "      <td>3</td>\n",
       "      <td>female</td>\n",
       "      <td>False</td>\n",
       "      <td>19</td>\n",
       "      <td>2.0</td>\n",
       "      <td>white</td>\n",
       "      <td>solid</td>\n",
       "      <td>blue</td>\n",
       "      <td>False</td>\n",
       "      <td>wet</td>\n",
       "      <td>46</td>\n",
       "      <td>16</td>\n",
       "      <td>France</td>\n",
       "      <td>43.296482</td>\n",
       "      <td>5.369780</td>\n",
       "    </tr>\n",
       "    <tr>\n",
       "      <th>1</th>\n",
       "      <td>Angora</td>\n",
       "      <td>0.33</td>\n",
       "      <td>4</td>\n",
       "      <td>male</td>\n",
       "      <td>False</td>\n",
       "      <td>19</td>\n",
       "      <td>2.5</td>\n",
       "      <td>white</td>\n",
       "      <td>solid</td>\n",
       "      <td>blue</td>\n",
       "      <td>False</td>\n",
       "      <td>wet</td>\n",
       "      <td>48</td>\n",
       "      <td>16</td>\n",
       "      <td>France</td>\n",
       "      <td>43.611660</td>\n",
       "      <td>3.877710</td>\n",
       "    </tr>\n",
       "    <tr>\n",
       "      <th>2</th>\n",
       "      <td>Angora</td>\n",
       "      <td>0.50</td>\n",
       "      <td>6</td>\n",
       "      <td>male</td>\n",
       "      <td>False</td>\n",
       "      <td>20</td>\n",
       "      <td>2.8</td>\n",
       "      <td>black</td>\n",
       "      <td>solid</td>\n",
       "      <td>green</td>\n",
       "      <td>False</td>\n",
       "      <td>wet</td>\n",
       "      <td>41</td>\n",
       "      <td>11</td>\n",
       "      <td>France</td>\n",
       "      <td>44.837789</td>\n",
       "      <td>-0.579180</td>\n",
       "    </tr>\n",
       "    <tr>\n",
       "      <th>3</th>\n",
       "      <td>Angora</td>\n",
       "      <td>0.50</td>\n",
       "      <td>6</td>\n",
       "      <td>female</td>\n",
       "      <td>False</td>\n",
       "      <td>21</td>\n",
       "      <td>3.0</td>\n",
       "      <td>white</td>\n",
       "      <td>solid</td>\n",
       "      <td>blue</td>\n",
       "      <td>False</td>\n",
       "      <td>wet</td>\n",
       "      <td>24</td>\n",
       "      <td>8</td>\n",
       "      <td>France</td>\n",
       "      <td>43.611660</td>\n",
       "      <td>3.877710</td>\n",
       "    </tr>\n",
       "    <tr>\n",
       "      <th>4</th>\n",
       "      <td>Angora</td>\n",
       "      <td>0.50</td>\n",
       "      <td>6</td>\n",
       "      <td>male</td>\n",
       "      <td>False</td>\n",
       "      <td>21</td>\n",
       "      <td>3.0</td>\n",
       "      <td>red/cream</td>\n",
       "      <td>tabby</td>\n",
       "      <td>green</td>\n",
       "      <td>False</td>\n",
       "      <td>wet</td>\n",
       "      <td>51</td>\n",
       "      <td>10</td>\n",
       "      <td>France</td>\n",
       "      <td>48.864716</td>\n",
       "      <td>2.349014</td>\n",
       "    </tr>\n",
       "    <tr>\n",
       "      <th>...</th>\n",
       "      <td>...</td>\n",
       "      <td>...</td>\n",
       "      <td>...</td>\n",
       "      <td>...</td>\n",
       "      <td>...</td>\n",
       "      <td>...</td>\n",
       "      <td>...</td>\n",
       "      <td>...</td>\n",
       "      <td>...</td>\n",
       "      <td>...</td>\n",
       "      <td>...</td>\n",
       "      <td>...</td>\n",
       "      <td>...</td>\n",
       "      <td>...</td>\n",
       "      <td>...</td>\n",
       "      <td>...</td>\n",
       "      <td>...</td>\n",
       "    </tr>\n",
       "    <tr>\n",
       "      <th>1066</th>\n",
       "      <td>Maine coon</td>\n",
       "      <td>0.17</td>\n",
       "      <td>2</td>\n",
       "      <td>female</td>\n",
       "      <td>False</td>\n",
       "      <td>15</td>\n",
       "      <td>1.2</td>\n",
       "      <td>white</td>\n",
       "      <td>solid</td>\n",
       "      <td>blue</td>\n",
       "      <td>False</td>\n",
       "      <td>wet</td>\n",
       "      <td>35</td>\n",
       "      <td>20</td>\n",
       "      <td>UK</td>\n",
       "      <td>51.507351</td>\n",
       "      <td>-0.127758</td>\n",
       "    </tr>\n",
       "    <tr>\n",
       "      <th>1067</th>\n",
       "      <td>Maine coon</td>\n",
       "      <td>0.17</td>\n",
       "      <td>2</td>\n",
       "      <td>female</td>\n",
       "      <td>False</td>\n",
       "      <td>17</td>\n",
       "      <td>1.0</td>\n",
       "      <td>black</td>\n",
       "      <td>bicolor</td>\n",
       "      <td>blue</td>\n",
       "      <td>False</td>\n",
       "      <td>wet</td>\n",
       "      <td>36</td>\n",
       "      <td>19</td>\n",
       "      <td>UK</td>\n",
       "      <td>51.507351</td>\n",
       "      <td>-0.127758</td>\n",
       "    </tr>\n",
       "    <tr>\n",
       "      <th>1068</th>\n",
       "      <td>Maine coon</td>\n",
       "      <td>0.17</td>\n",
       "      <td>2</td>\n",
       "      <td>male</td>\n",
       "      <td>False</td>\n",
       "      <td>14</td>\n",
       "      <td>0.7</td>\n",
       "      <td>red/cream</td>\n",
       "      <td>tabby</td>\n",
       "      <td>blue</td>\n",
       "      <td>False</td>\n",
       "      <td>wet</td>\n",
       "      <td>20</td>\n",
       "      <td>20</td>\n",
       "      <td>UK</td>\n",
       "      <td>51.507351</td>\n",
       "      <td>-0.127758</td>\n",
       "    </tr>\n",
       "    <tr>\n",
       "      <th>1069</th>\n",
       "      <td>Maine coon</td>\n",
       "      <td>0.17</td>\n",
       "      <td>2</td>\n",
       "      <td>male</td>\n",
       "      <td>False</td>\n",
       "      <td>16</td>\n",
       "      <td>1.1</td>\n",
       "      <td>red/cream</td>\n",
       "      <td>tabby</td>\n",
       "      <td>green</td>\n",
       "      <td>False</td>\n",
       "      <td>wet</td>\n",
       "      <td>34</td>\n",
       "      <td>19</td>\n",
       "      <td>UK</td>\n",
       "      <td>52.486244</td>\n",
       "      <td>-1.890401</td>\n",
       "    </tr>\n",
       "    <tr>\n",
       "      <th>1070</th>\n",
       "      <td>Maine coon</td>\n",
       "      <td>0.17</td>\n",
       "      <td>2</td>\n",
       "      <td>female</td>\n",
       "      <td>False</td>\n",
       "      <td>15</td>\n",
       "      <td>1.1</td>\n",
       "      <td>red/cream</td>\n",
       "      <td>solid</td>\n",
       "      <td>blue</td>\n",
       "      <td>False</td>\n",
       "      <td>wet</td>\n",
       "      <td>39</td>\n",
       "      <td>20</td>\n",
       "      <td>UK</td>\n",
       "      <td>51.507351</td>\n",
       "      <td>-0.127758</td>\n",
       "    </tr>\n",
       "  </tbody>\n",
       "</table>\n",
       "<p>1071 rows × 17 columns</p>\n",
       "</div>"
      ],
      "text/plain": [
       "           Breed  Age_in_years  Age_in_months  Gender  Neutered_or_spayed  \\\n",
       "0         Angora          0.25              3  female               False   \n",
       "1         Angora          0.33              4    male               False   \n",
       "2         Angora          0.50              6    male               False   \n",
       "3         Angora          0.50              6  female               False   \n",
       "4         Angora          0.50              6    male               False   \n",
       "...          ...           ...            ...     ...                 ...   \n",
       "1066  Maine coon          0.17              2  female               False   \n",
       "1067  Maine coon          0.17              2  female               False   \n",
       "1068  Maine coon          0.17              2    male               False   \n",
       "1069  Maine coon          0.17              2    male               False   \n",
       "1070  Maine coon          0.17              2  female               False   \n",
       "\n",
       "      Body_length  Weight Fur_colour_dominant Fur_pattern Eye_colour  \\\n",
       "0              19     2.0               white       solid       blue   \n",
       "1              19     2.5               white       solid       blue   \n",
       "2              20     2.8               black       solid      green   \n",
       "3              21     3.0               white       solid       blue   \n",
       "4              21     3.0           red/cream       tabby      green   \n",
       "...           ...     ...                 ...         ...        ...   \n",
       "1066           15     1.2               white       solid       blue   \n",
       "1067           17     1.0               black     bicolor       blue   \n",
       "1068           14     0.7           red/cream       tabby       blue   \n",
       "1069           16     1.1           red/cream       tabby      green   \n",
       "1070           15     1.1           red/cream       solid       blue   \n",
       "\n",
       "      Allowed_outdoor Preferred_food  Owner_play_time_minutes  \\\n",
       "0               False            wet                       46   \n",
       "1               False            wet                       48   \n",
       "2               False            wet                       41   \n",
       "3               False            wet                       24   \n",
       "4               False            wet                       51   \n",
       "...               ...            ...                      ...   \n",
       "1066            False            wet                       35   \n",
       "1067            False            wet                       36   \n",
       "1068            False            wet                       20   \n",
       "1069            False            wet                       34   \n",
       "1070            False            wet                       39   \n",
       "\n",
       "      Sleep_time_hours Country   Latitude  Longitude  \n",
       "0                   16  France  43.296482   5.369780  \n",
       "1                   16  France  43.611660   3.877710  \n",
       "2                   11  France  44.837789  -0.579180  \n",
       "3                    8  France  43.611660   3.877710  \n",
       "4                   10  France  48.864716   2.349014  \n",
       "...                ...     ...        ...        ...  \n",
       "1066                20      UK  51.507351  -0.127758  \n",
       "1067                19      UK  51.507351  -0.127758  \n",
       "1068                20      UK  51.507351  -0.127758  \n",
       "1069                19      UK  52.486244  -1.890401  \n",
       "1070                20      UK  51.507351  -0.127758  \n",
       "\n",
       "[1071 rows x 17 columns]"
      ]
     },
     "execution_count": 5,
     "metadata": {},
     "output_type": "execute_result"
    }
   ],
   "source": [
    "import pandas as pd\n",
    "import matplotlib.pyplot as plt\n",
    "\n",
    "base = pd.read_csv('cat_breeds.csv', sep=';')\n",
    "base"
   ]
  },
  {
   "cell_type": "code",
   "execution_count": 6,
   "id": "8e3e0f44",
   "metadata": {},
   "outputs": [
    {
     "data": {
      "text/plain": [
       "Breed                      0\n",
       "Age_in_years               0\n",
       "Age_in_months              0\n",
       "Gender                     0\n",
       "Neutered_or_spayed         0\n",
       "Body_length                0\n",
       "Weight                     0\n",
       "Fur_colour_dominant        0\n",
       "Fur_pattern                0\n",
       "Eye_colour                 0\n",
       "Allowed_outdoor            0\n",
       "Preferred_food             0\n",
       "Owner_play_time_minutes    0\n",
       "Sleep_time_hours           0\n",
       "Country                    0\n",
       "Latitude                   0\n",
       "Longitude                  0\n",
       "dtype: int64"
      ]
     },
     "execution_count": 6,
     "metadata": {},
     "output_type": "execute_result"
    }
   ],
   "source": [
    "base.isnull().sum()"
   ]
  },
  {
   "cell_type": "markdown",
   "id": "ab50eebd",
   "metadata": {},
   "source": [
    "# Clean data"
   ]
  },
  {
   "cell_type": "code",
   "execution_count": 7,
   "id": "786fc2d1",
   "metadata": {},
   "outputs": [],
   "source": [
    "features = [\n",
    "    'Body_length', 'Weight', 'Fur_colour_dominant', 'Fur_pattern', 'Eye_colour', 'Country', 'Latitude', 'Longitude'\n",
    "]\n",
    "target = 'Breed'\n",
    "\n",
    "clean_base = base[features]\n",
    "clean_target = base[target].copy()"
   ]
  },
  {
   "cell_type": "code",
   "execution_count": 8,
   "id": "1ae42d7c",
   "metadata": {},
   "outputs": [],
   "source": [
    "# LABEL ENCODER\n",
    "\n",
    "from sklearn.preprocessing import LabelEncoder\n",
    "\n",
    "features_les = {}\n",
    "base_encoded = clean_base.copy()\n",
    "for feat in features:\n",
    "    if base_encoded[feat].dtype == 'object':\n",
    "        features_les[feat] = LabelEncoder()\n",
    "        base_encoded[feat] = features_les[feat].fit_transform(base_encoded[feat])\n",
    "\n",
    "target_le = LabelEncoder()\n",
    "target_encoded = clean_target.copy()\n",
    "if(clean_target.dtype == 'object'):\n",
    "    target_encoded = target_le.fit_transform(target_encoded)\n",
    "target_encoded = pd.Series(target_encoded, name=target)\n",
    "\n",
    "# base_encoded\n",
    "# target_encoded"
   ]
  },
  {
   "cell_type": "code",
   "execution_count": 9,
   "id": "95e609a8",
   "metadata": {},
   "outputs": [],
   "source": [
    "# STANDARD SCALER\n",
    "\n",
    "from sklearn.preprocessing import StandardScaler\n",
    "\n",
    "scaler = StandardScaler()\n",
    "base_scaled = scaler.fit_transform(base_encoded)\n",
    "\n",
    "# pd.DataFrame(base_scaled, columns=features)\n",
    "# pd.Series(target_scaled.flatten(), name=target)"
   ]
  },
  {
   "cell_type": "markdown",
   "id": "b6ff388c",
   "metadata": {},
   "source": [
    "# Train & Test data"
   ]
  },
  {
   "cell_type": "code",
   "execution_count": 10,
   "id": "6a8781ca",
   "metadata": {},
   "outputs": [],
   "source": [
    "from sklearn.model_selection import train_test_split\n",
    "\n",
    "x = base_scaled.copy()\n",
    "y = target_encoded.copy()\n",
    "\n",
    "x_train, x_test, y_train, y_test = train_test_split(x, y, test_size = 0.2, random_state = 11)\n"
   ]
  },
  {
   "cell_type": "code",
   "execution_count": 11,
   "id": "23b0fbc2",
   "metadata": {},
   "outputs": [],
   "source": [
    "import pickle\n",
    "with open('cat_breeds.pkl', mode = 'wb') as f:\n",
    "  pickle.dump([x_train, y_train, x_test, y_test], f)"
   ]
  },
  {
   "cell_type": "markdown",
   "id": "9ee8cac0",
   "metadata": {},
   "source": [
    "## Trains models"
   ]
  },
  {
   "cell_type": "code",
   "execution_count": 12,
   "id": "97640e28",
   "metadata": {},
   "outputs": [],
   "source": [
    "with open('cat_breeds.pkl', 'rb') as f:\n",
    "  x_train, y_train, x_test, y_test = pickle.load(f)"
   ]
  },
  {
   "cell_type": "markdown",
   "id": "345fe42c",
   "metadata": {},
   "source": [
    "### Naive Bayes\n",
    "- GaussianNB:       features numéricas contínuas (assume distribuição normal)\n",
    "- MultinomialNB:    features contagens/discretas (como palavras em texto)\n",
    "- BernoulliNB:      features binárias (0/1)"
   ]
  },
  {
   "cell_type": "code",
   "execution_count": 13,
   "id": "57470af8",
   "metadata": {},
   "outputs": [],
   "source": [
    "from sklearn.naive_bayes import GaussianNB\n",
    "\n",
    "x_train, x_test, y_train, y_test = train_test_split(base_encoded, target_encoded, test_size = 0.2, random_state = 11)\n",
    "\n",
    "g_naivebayes = GaussianNB()\n",
    "g_naivebayes.fit(x_train, y_train)\n",
    "\n",
    "model = g_naivebayes"
   ]
  },
  {
   "cell_type": "markdown",
   "id": "6bfac725",
   "metadata": {},
   "source": [
    "### Decision Tree Classifier\n",
    "\n",
    "![image.png](https://miro.medium.com/1*TiB4AGb_hQ6W4JkELjvCbQ.png)"
   ]
  },
  {
   "cell_type": "code",
   "execution_count": 14,
   "id": "f41f1f01",
   "metadata": {},
   "outputs": [
    {
     "data": {
      "image/png": "[encoded data removed]",
      "text/plain": [
       "<Figure size 1200x800 with 1 Axes>"
      ]
     },
     "metadata": {},
     "output_type": "display_data"
    }
   ],
   "source": [
    "from sklearn.tree import DecisionTreeClassifier, plot_tree\n",
    "\n",
    "tree = DecisionTreeClassifier(criterion='gini', max_depth=3, random_state=42)\n",
    "tree.fit(x, y)\n",
    "\n",
    "model = tree\n",
    "\n",
    "\n",
    "plt.figure(figsize=(12,8))\n",
    "plot_tree(tree, feature_names=features, class_names=clean_target.unique(), filled=True)\n",
    "plt.show()"
   ]
  },
  {
   "cell_type": "markdown",
   "id": "56463a6f",
   "metadata": {},
   "source": [
    "### Logistic Regression"
   ]
  },
  {
   "cell_type": "code",
   "execution_count": 15,
   "id": "fa97c49c",
   "metadata": {},
   "outputs": [
    {
     "name": "stderr",
     "output_type": "stream",
     "text": [
      "c:\\Users\\disrct\\AppData\\Local\\Programs\\Python\\Python311\\Lib\\site-packages\\sklearn\\linear_model\\_logistic.py:465: ConvergenceWarning: lbfgs failed to converge (status=1):\n",
      "STOP: TOTAL NO. OF ITERATIONS REACHED LIMIT.\n",
      "\n",
      "Increase the number of iterations (max_iter) or scale the data as shown in:\n",
      "    https://scikit-learn.org/stable/modules/preprocessing.html\n",
      "Please also refer to the documentation for alternative solver options:\n",
      "    https://scikit-learn.org/stable/modules/linear_model.html#logistic-regression\n",
      "  n_iter_i = _check_optimize_result(\n"
     ]
    }
   ],
   "source": [
    "from sklearn.linear_model import LogisticRegression\n",
    "\n",
    "logistic_r = LogisticRegression(random_state = 1,max_iter=100)\n",
    "logistic_r.fit(x_train, y_train)\n",
    "\n",
    "model = logistic_r"
   ]
  },
  {
   "cell_type": "markdown",
   "id": "4b5ce6e9",
   "metadata": {},
   "source": [
    "## Acurácia\n",
    "    Mede a porcentagem de tentativas que acertaram em relação a todas as tentativas\n",
    "\n",
    "```python\n",
    "    acertos_totais = tp + tn\n",
    "    tentativas_totais = tp + tn + fp + fn\n",
    "    acuracia = acertos_totais / tentativas_totais"
   ]
  },
  {
   "cell_type": "code",
   "execution_count": 16,
   "id": "e5895cd4",
   "metadata": {},
   "outputs": [
    {
     "data": {
      "text/plain": [
       "0.8418604651162791"
      ]
     },
     "execution_count": 16,
     "metadata": {},
     "output_type": "execute_result"
    }
   ],
   "source": [
    "from sklearn.metrics import accuracy_score\n",
    "\n",
    "pred = model.predict(x_test)\n",
    "accuracy = accuracy_score(y_test, pred)\n",
    "accuracy"
   ]
  },
  {
   "cell_type": "markdown",
   "id": "90db8f8a",
   "metadata": {},
   "source": [
    "## Precisão\n",
    "\n",
    "Mede quantas vezes ele acertou o valor real em relaçao a todas as vezes que ele disse que era o valor:\n",
    "\n",
    "```python\n",
    "    acertos = tp\n",
    "    tentativas_acertos = tp + fp\n",
    "    precisao = acertos / tentativas_acertos\n"
   ]
  },
  {
   "cell_type": "code",
   "execution_count": 17,
   "id": "829498b6",
   "metadata": {},
   "outputs": [
    {
     "data": {
      "text/plain": [
       "0.8372450897151339"
      ]
     },
     "execution_count": 17,
     "metadata": {},
     "output_type": "execute_result"
    }
   ],
   "source": [
    "from sklearn.metrics import precision_score\n",
    "\n",
    "pred = model.predict(x_test)\n",
    "precision = precision_score(y_test, pred, average='macro')\n",
    "precision"
   ]
  },
  {
   "cell_type": "markdown",
   "id": "d8389ac8",
   "metadata": {},
   "source": [
    "## Recall\n",
    "Total de dados que eram pra ser verdadeiros e o que foram ditos como verdadeiro\n",
    "```python\n",
    "    acertos = tp\n",
    "    reais = tp + fn\n",
    "    recall = acertos / reais"
   ]
  },
  {
   "cell_type": "code",
   "execution_count": 18,
   "id": "b93fbf97",
   "metadata": {},
   "outputs": [
    {
     "data": {
      "text/plain": [
       "0.8414923526765632"
      ]
     },
     "execution_count": 18,
     "metadata": {},
     "output_type": "execute_result"
    }
   ],
   "source": [
    "from sklearn.metrics import recall_score\n",
    "\n",
    "pred = model.predict(x_test)\n",
    "recall = recall_score(y_test, pred, average='macro')\n",
    "recall"
   ]
  },
  {
   "cell_type": "markdown",
   "id": "b798e746",
   "metadata": {},
   "source": [
    "## F1_SCORE\n",
    "Ele é a média harmônica entre a precisão e o recall. 2(/)\n",
    "\n",
    "```python\n",
    "    a = precisao*recall\n",
    "    b = precisao+recall\n",
    "    f1_score = 2(a/b)"
   ]
  },
  {
   "cell_type": "code",
   "execution_count": 19,
   "id": "59445542",
   "metadata": {},
   "outputs": [
    {
     "data": {
      "text/plain": [
       "0.8369556374046274"
      ]
     },
     "execution_count": 19,
     "metadata": {},
     "output_type": "execute_result"
    }
   ],
   "source": [
    "from sklearn.metrics import f1_score\n",
    "\n",
    "pred = model.predict(x_test)\n",
    "f1 = f1_score(y_test, pred, average='macro')\n",
    "f1"
   ]
  },
  {
   "cell_type": "markdown",
   "id": "28f7b34e",
   "metadata": {},
   "source": [
    "## Matriz de confusão\n",
    "\n",
    "\n",
    "| Real \\ Prev | Classe A | Classe ... | Classe N |\n",
    "|-------------|----------|------------|----------|\n",
    "| Classe A    |    10    |    2       |    0     |\n",
    "| Classe ...  |    1     |    15      |    3     |\n",
    "| Classe N    |    0     |    2       |    12    |"
   ]
  },
  {
   "cell_type": "code",
   "execution_count": 21,
   "id": "364f740c",
   "metadata": {},
   "outputs": [
    {
     "name": "stderr",
     "output_type": "stream",
     "text": [
      "c:\\Users\\disrct\\AppData\\Local\\Programs\\Python\\Python311\\Lib\\site-packages\\sklearn\\utils\\validation.py:2739: UserWarning: X does not have valid feature names, but LogisticRegression was fitted with feature names\n",
      "  warnings.warn(\n"
     ]
    },
    {
     "data": {
      "text/plain": [
       "0.8418604651162791"
      ]
     },
     "execution_count": 21,
     "metadata": {},
     "output_type": "execute_result"
    },
    {
     "data": {
      "image/png": "[encoded data removed]",
      "text/plain": [
       "<Figure size 400x400 with 1 Axes>"
      ]
     },
     "metadata": {},
     "output_type": "display_data"
    }
   ],
   "source": [
    "from yellowbrick.classifier import ConfusionMatrix\n",
    "plt.figure(figsize=(4,4))\n",
    "\n",
    "pred = model.predict(x_test)\n",
    "cm = ConfusionMatrix(model)\n",
    "cm.fit(x_train, y_train)\n",
    "cm.score(x_test, y_test)"
   ]
  },
  {
   "cell_type": "code",
   "execution_count": 22,
   "id": "7a5baee9",
   "metadata": {},
   "outputs": [
    {
     "name": "stdout",
     "output_type": "stream",
     "text": [
      "              precision    recall  f1-score   support\n",
      "\n",
      "           0       0.72      0.84      0.77        57\n",
      "           1       0.87      0.79      0.83        78\n",
      "           2       0.92      0.89      0.90        80\n",
      "\n",
      "    accuracy                           0.84       215\n",
      "   macro avg       0.84      0.84      0.84       215\n",
      "weighted avg       0.85      0.84      0.84       215\n",
      "\n"
     ]
    }
   ],
   "source": [
    "from sklearn.metrics import classification_report\n",
    "\n",
    "print(classification_report(y_test, pred)) "
   ]
  },
  {
   "cell_type": "code",
   "execution_count": null,
   "id": "95b105b1",
   "metadata": {},
   "outputs": [],
   "source": []
  }
 ],
 "metadata": {
  "kernelspec": {
   "display_name": "Python 3",
   "language": "python",
   "name": "python3"
  },
  "language_info": {
   "codemirror_mode": {
    "name": "ipython",
    "version": 3
   },
   "file_extension": ".py",
   "mimetype": "text/x-python",
   "name": "python",
   "nbconvert_exporter": "python",
   "pygments_lexer": "ipython3",
   "version": "3.11.0"
  }
 },
 "nbformat": 4,
 "nbformat_minor": 5
}
