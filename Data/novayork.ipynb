{
 "cells": [
  {
   "cell_type": "code",
   "execution_count": 1,
   "metadata": {
    "_cell_guid": "b1076dfc-b9ad-4769-8c92-a6c4dae69d19",
    "_uuid": "8f2839f25d086af736a60e9eeb907d3b93b6e0e5",
    "execution": {
     "iopub.execute_input": "2025-09-24T16:24:29.508288Z",
     "iopub.status.busy": "2025-09-24T16:24:29.506488Z",
     "iopub.status.idle": "2025-09-24T16:24:30.773413Z",
     "shell.execute_reply": "2025-09-24T16:24:30.765172Z",
     "shell.execute_reply.started": "2025-09-24T16:24:29.508114Z"
    },
    "trusted": true
   },
   "outputs": [],
   "source": [
    "import numpy as np\n",
    "import pandas as pd\n",
    "import os\n",
    "\n",
    "lista = []\n",
    "for dirname, _, filenames in os.walk('/kaggle/input'):\n",
    "    for filename in filenames:\n",
    "        lista.append(os.path.join(dirname, filename))"
   ]
  },
  {
   "cell_type": "code",
   "execution_count": null,
   "metadata": {
    "execution": {
     "iopub.execute_input": "2025-09-24T16:24:30.802673Z",
     "iopub.status.busy": "2025-09-24T16:24:30.787810Z",
     "iopub.status.idle": "2025-09-24T16:24:31.088004Z",
     "shell.execute_reply": "2025-09-24T16:24:31.086313Z",
     "shell.execute_reply.started": "2025-09-24T16:24:30.800135Z"
    },
    "trusted": true
   },
   "outputs": [],
   "source": [
    "dfs = [pd.read_csv(item) for item in lista]\n",
    "df = pd.concat(dfs)"
   ]
  },
  {
   "cell_type": "code",
   "execution_count": 3,
   "metadata": {
    "execution": {
     "iopub.execute_input": "2025-09-24T16:24:31.098891Z",
     "iopub.status.busy": "2025-09-24T16:24:31.097332Z",
     "iopub.status.idle": "2025-09-24T16:24:31.129756Z",
     "shell.execute_reply": "2025-09-24T16:24:31.124909Z",
     "shell.execute_reply.started": "2025-09-24T16:24:31.098767Z"
    },
    "trusted": true
   },
   "outputs": [],
   "source": [
    "df = df[['Year', 'Script Type', 'Rotten Tomatoes  critics', \n",
    "    'Metacritic  critics', 'Average audience ', 'Worldwide Gross ($million)',\n",
    "   'Budget ($million)', 'Primary Genre']]"
   ]
  },
  {
   "cell_type": "code",
   "execution_count": 4,
   "metadata": {
    "execution": {
     "iopub.execute_input": "2025-09-24T16:24:31.139242Z",
     "iopub.status.busy": "2025-09-24T16:24:31.136150Z",
     "iopub.status.idle": "2025-09-24T16:24:31.183347Z",
     "shell.execute_reply": "2025-09-24T16:24:31.179116Z",
     "shell.execute_reply.started": "2025-09-24T16:24:31.139078Z"
    },
    "trusted": true
   },
   "outputs": [
    {
     "data": {
      "text/plain": [
       "Year                             0\n",
       "Script Type                    193\n",
       "Rotten Tomatoes  critics         1\n",
       "Metacritic  critics              0\n",
       "Average audience                 1\n",
       "Worldwide Gross ($million)       0\n",
       "Budget ($million)                0\n",
       "Primary Genre                 1689\n",
       "dtype: int64"
      ]
     },
     "execution_count": 4,
     "metadata": {},
     "output_type": "execute_result"
    }
   ],
   "source": [
    "df.isna().sum()"
   ]
  },
  {
   "cell_type": "code",
   "execution_count": 5,
   "metadata": {
    "execution": {
     "iopub.execute_input": "2025-09-24T16:24:31.188422Z",
     "iopub.status.busy": "2025-09-24T16:24:31.185525Z",
     "iopub.status.idle": "2025-09-24T16:24:32.149110Z",
     "shell.execute_reply": "2025-09-24T16:24:32.145861Z",
     "shell.execute_reply.started": "2025-09-24T16:24:31.188319Z"
    },
    "trusted": true
   },
   "outputs": [
    {
     "data": {
      "text/plain": [
       "array(['unknown', 'original', 'sequel', 'adaptation', 'real', 'remake',\n",
       "       'prequel'], dtype=object)"
      ]
     },
     "execution_count": 5,
     "metadata": {},
     "output_type": "execute_result"
    }
   ],
   "source": [
    "col = df.columns.get_loc('Script Type')\n",
    "\n",
    "df['Script Type'] = df['Script Type'].fillna('unknown')\n",
    "for i in range(len(df)):\n",
    "    value = df.iloc[i, col]\n",
    "\n",
    "    if 'original' in value:\n",
    "        value = 'original'\n",
    "    elif 'sequel' in value:\n",
    "        value = 'sequel'\n",
    "    elif 'true story' in value or 'documentary' in value:\n",
    "        value = 'real'\n",
    "    elif 'adaptation' in value:\n",
    "        value = 'adaptation'\n",
    "    elif 'remake'in value:\n",
    "        value = 'remake'\n",
    "    elif 'prequel' in value:\n",
    "        value = 'prequel'\n",
    "    else:\n",
    "        value = 'unknown'\n",
    "    \n",
    "    df.iloc[i, col] = value\n",
    "\n",
    "df['Script Type'].unique()"
   ]
  },
  {
   "cell_type": "code",
   "execution_count": 6,
   "metadata": {
    "execution": {
     "iopub.execute_input": "2025-09-24T16:24:32.154273Z",
     "iopub.status.busy": "2025-09-24T16:24:32.153265Z",
     "iopub.status.idle": "2025-09-24T16:24:32.198147Z",
     "shell.execute_reply": "2025-09-24T16:24:32.194647Z",
     "shell.execute_reply.started": "2025-09-24T16:24:32.154129Z"
    },
    "trusted": true
   },
   "outputs": [
    {
     "data": {
      "text/plain": [
       "array([  0.,  96.,  69.,  32.,  75.,  57.,  92.,  68.,  39.,  84.,  85.,\n",
       "        82.,  81.,  88.,  53.,  63.,  80.,  73.,  62.,  74.,  77.,  38.,\n",
       "        86.,  44.,  94.,  95.,  79.,  40.,  46.,  41.,  11.,  72.,  55.,\n",
       "        29.,  23.,  98.,  61.,  70.,  36.,  15.,  54.,  93.,  17.,  76.,\n",
       "        87.,  71.,  91.,  24.,  83.,  21.,  89.,  64.,  35.,  50.,  42.,\n",
       "        18.,  60.,  14.,  51.,  66.,  97.,  78.,  45.,  19.,  25.,  47.,\n",
       "        48.,  67.,  26.,  37.,  56.,  90.,  43.,  99.,  59.,  22.,  34.,\n",
       "        27.,  10.,  52.,  13.,  28.,  49.,  31.,   1.,   2.,   3.,   4.,\n",
       "         8.,   9.,  20.,  30.,  33.,  65.,  12.,  16.,  58.,   7.,   5.,\n",
       "         6., 100.,  nan])"
      ]
     },
     "execution_count": 6,
     "metadata": {},
     "output_type": "execute_result"
    }
   ],
   "source": [
    "coluna = 'Rotten Tomatoes  critics'\n",
    "df = df[df[coluna] != '-']\n",
    "df[coluna].dropna(inplace=True)\n",
    "df[coluna] = pd.to_numeric(df[coluna])\n",
    "df[coluna].unique()"
   ]
  },
  {
   "cell_type": "code",
   "execution_count": 7,
   "metadata": {
    "execution": {
     "iopub.execute_input": "2025-09-24T16:24:32.209637Z",
     "iopub.status.busy": "2025-09-24T16:24:32.208676Z",
     "iopub.status.idle": "2025-09-24T16:24:32.252889Z",
     "shell.execute_reply": "2025-09-24T16:24:32.250433Z",
     "shell.execute_reply.started": "2025-09-24T16:24:32.209593Z"
    },
    "trusted": true
   },
   "outputs": [
    {
     "data": {
      "text/plain": [
       "array([ 95,  55,  48,  74,  61,  78,  54,  41,  67,  69,  66,  72,  49,\n",
       "        50,  56,  52,  60,  63,  64,  75,  81,  62,  47,  40,  32,  38,\n",
       "        51,  80,  35,  65,  70,  77,  45,  76,  73,  68,  92,  59,  31,\n",
       "        71,  82,  57,  79,  43,  39,  30,  53,  28,  84,  46,  58,  44,\n",
       "        42,  91,  83,  17,  96,  24,  25,  36,  26,  19,  37,  89,  11,\n",
       "        29,  13,  33,  85,  27,  88,  94,  23,  34,  18,  93,  21,  22,\n",
       "        87,  99,  86,   9,  15,  20,  14,  90,  12, 100,  16,  97])"
      ]
     },
     "execution_count": 7,
     "metadata": {},
     "output_type": "execute_result"
    }
   ],
   "source": [
    "coluna = 'Metacritic  critics'\n",
    "df = df[df[coluna] != '-'].copy()\n",
    "df[coluna].dropna(inplace=True)\n",
    "df[coluna] = pd.to_numeric(df[coluna])\n",
    "df[coluna].unique()"
   ]
  },
  {
   "cell_type": "code",
   "execution_count": 8,
   "metadata": {
    "execution": {
     "iopub.execute_input": "2025-09-24T16:24:32.260808Z",
     "iopub.status.busy": "2025-09-24T16:24:32.257721Z",
     "iopub.status.idle": "2025-09-24T16:24:32.304069Z",
     "shell.execute_reply": "2025-09-24T16:24:32.299937Z",
     "shell.execute_reply.started": "2025-09-24T16:24:32.260667Z"
    },
    "trusted": true
   },
   "outputs": [
    {
     "data": {
      "text/plain": [
       "array([81. , 72. , 57. , 61. , 73. , 63. , 74. , 66. , 71. , 56. , 69. ,\n",
       "       77. , 76. , 59. , 80. , 52. , 85. , 84. , 78. , 37. , 36. , 55. ,\n",
       "       82. , 38. , 86. , 89. , 83. , 70. , 79. , 75. , 91. , 65. , 88. ,\n",
       "       49. , 64. , 45. , 62. , 51. , 41. , 25. , 60. , 47. , 48. , 54. ,\n",
       "       68. , 58. , 87. , 67. , 53. , 46. , 90. , 40. , 39. , 44. , 31. ,\n",
       "       30. , 42. , 29. , 24. , 50. , 43. , 35. , 90.5, 85.5, 64.5, 77.5,\n",
       "       74.5, 59.5, 79.5, 55.5, 63.5, 66.5, 48.5, 69.5, 82.5, 73.5, 58.5,\n",
       "       40.5, 57.5, 41.5, 72.5, 54.5, 47.5, 62.5, 80.5, 65.5, 67.5, 70.5,\n",
       "       75.5, 32.5, 56.5, 81.5, 71.5, 34. , 33.5, 76.5, 86.5, 15.5, 52.5,\n",
       "       78.5, 46.5, 18.5, 60.5, 51.5, 43.5, 61.5, 93. , 22. , 28. ,  nan,\n",
       "       32. , 27. , 33. , 92. , 23. ,  7. , 19. ])"
      ]
     },
     "execution_count": 8,
     "metadata": {},
     "output_type": "execute_result"
    }
   ],
   "source": [
    "coluna = 'Average audience '\n",
    "df = df[df[coluna] != '-'].copy()\n",
    "df[coluna] = pd.to_numeric(df[coluna])\n",
    "df[coluna].dropna(inplace=True)\n",
    "df[coluna].unique()"
   ]
  },
  {
   "cell_type": "code",
   "execution_count": null,
   "metadata": {
    "trusted": true
   },
   "outputs": [],
   "source": []
  },
  {
   "cell_type": "code",
   "execution_count": 9,
   "metadata": {
    "execution": {
     "iopub.execute_input": "2025-09-24T16:24:32.327790Z",
     "iopub.status.busy": "2025-09-24T16:24:32.325370Z",
     "iopub.status.idle": "2025-09-24T16:24:32.366440Z",
     "shell.execute_reply": "2025-09-24T16:24:32.364972Z",
     "shell.execute_reply.started": "2025-09-24T16:24:32.327696Z"
    },
    "trusted": true
   },
   "outputs": [
    {
     "data": {
      "text/plain": [
       "Primary Genre\n",
       "unknown      1680\n",
       "action         67\n",
       "drama          49\n",
       "comedy         42\n",
       "adventure      24\n",
       "thriller       20\n",
       "horror         18\n",
       "crime          13\n",
       "biography       8\n",
       "animation       6\n",
       "romance         6\n",
       "musical         3\n",
       "fantasy         3\n",
       "western         2\n",
       "sci-fi          2\n",
       "mystery         1\n",
       "Name: count, dtype: int64"
      ]
     },
     "execution_count": 9,
     "metadata": {},
     "output_type": "execute_result"
    }
   ],
   "source": [
    "coluna = 'Primary Genre'\n",
    "df[coluna] = df[coluna].fillna('unknown')\n",
    "df[coluna].value_counts()"
   ]
  },
  {
   "cell_type": "code",
   "execution_count": 10,
   "metadata": {
    "execution": {
     "iopub.execute_input": "2025-09-24T16:24:32.374602Z",
     "iopub.status.busy": "2025-09-24T16:24:32.372168Z",
     "iopub.status.idle": "2025-09-24T16:24:34.826926Z",
     "shell.execute_reply": "2025-09-24T16:24:34.822113Z",
     "shell.execute_reply.started": "2025-09-24T16:24:32.374552Z"
    },
    "trusted": true
   },
   "outputs": [
    {
     "data": {
      "text/html": [
       "<div>\n",
       "<style scoped>\n",
       "    .dataframe tbody tr th:only-of-type {\n",
       "        vertical-align: middle;\n",
       "    }\n",
       "\n",
       "    .dataframe tbody tr th {\n",
       "        vertical-align: top;\n",
       "    }\n",
       "\n",
       "    .dataframe thead th {\n",
       "        text-align: right;\n",
       "    }\n",
       "</style>\n",
       "<table border=\"1\" class=\"dataframe\">\n",
       "  <thead>\n",
       "    <tr style=\"text-align: right;\">\n",
       "      <th></th>\n",
       "      <th>Year</th>\n",
       "      <th>Script Type</th>\n",
       "      <th>Rotten Tomatoes  critics</th>\n",
       "      <th>Metacritic  critics</th>\n",
       "      <th>Average audience</th>\n",
       "      <th>Worldwide Gross ($million)</th>\n",
       "      <th>Budget ($million)</th>\n",
       "      <th>Primary Genre</th>\n",
       "    </tr>\n",
       "  </thead>\n",
       "  <tbody>\n",
       "    <tr>\n",
       "      <th>1</th>\n",
       "      <td>2022</td>\n",
       "      <td>6</td>\n",
       "      <td>96.0</td>\n",
       "      <td>95</td>\n",
       "      <td>81.0</td>\n",
       "      <td>7.8</td>\n",
       "      <td>-</td>\n",
       "      <td>6</td>\n",
       "    </tr>\n",
       "    <tr>\n",
       "      <th>2</th>\n",
       "      <td>2022</td>\n",
       "      <td>6</td>\n",
       "      <td>69.0</td>\n",
       "      <td>55</td>\n",
       "      <td>72.0</td>\n",
       "      <td>51.8</td>\n",
       "      <td>40.0</td>\n",
       "      <td>13</td>\n",
       "    </tr>\n",
       "    <tr>\n",
       "      <th>3</th>\n",
       "      <td>2022</td>\n",
       "      <td>6</td>\n",
       "      <td>32.0</td>\n",
       "      <td>48</td>\n",
       "      <td>57.0</td>\n",
       "      <td>29.4</td>\n",
       "      <td>80.0</td>\n",
       "      <td>4</td>\n",
       "    </tr>\n",
       "    <tr>\n",
       "      <th>4</th>\n",
       "      <td>2022</td>\n",
       "      <td>6</td>\n",
       "      <td>75.0</td>\n",
       "      <td>74</td>\n",
       "      <td>57.0</td>\n",
       "      <td>6.6</td>\n",
       "      <td>15.0</td>\n",
       "      <td>6</td>\n",
       "    </tr>\n",
       "    <tr>\n",
       "      <th>5</th>\n",
       "      <td>2022</td>\n",
       "      <td>6</td>\n",
       "      <td>57.0</td>\n",
       "      <td>61</td>\n",
       "      <td>61.0</td>\n",
       "      <td>63.3</td>\n",
       "      <td>110.0</td>\n",
       "      <td>4</td>\n",
       "    </tr>\n",
       "    <tr>\n",
       "      <th>...</th>\n",
       "      <td>...</td>\n",
       "      <td>...</td>\n",
       "      <td>...</td>\n",
       "      <td>...</td>\n",
       "      <td>...</td>\n",
       "      <td>...</td>\n",
       "      <td>...</td>\n",
       "      <td>...</td>\n",
       "    </tr>\n",
       "    <tr>\n",
       "      <th>96</th>\n",
       "      <td>2021</td>\n",
       "      <td>6</td>\n",
       "      <td>25.0</td>\n",
       "      <td>44</td>\n",
       "      <td>53.0</td>\n",
       "      <td>4.1</td>\n",
       "      <td>29.0</td>\n",
       "      <td>1</td>\n",
       "    </tr>\n",
       "    <tr>\n",
       "      <th>97</th>\n",
       "      <td>2021</td>\n",
       "      <td>6</td>\n",
       "      <td>92.0</td>\n",
       "      <td>85</td>\n",
       "      <td>82.0</td>\n",
       "      <td>74.8</td>\n",
       "      <td>100.0</td>\n",
       "      <td>9</td>\n",
       "    </tr>\n",
       "    <tr>\n",
       "      <th>98</th>\n",
       "      <td>2021</td>\n",
       "      <td>6</td>\n",
       "      <td>67.0</td>\n",
       "      <td>57</td>\n",
       "      <td>80.0</td>\n",
       "      <td>103.9</td>\n",
       "      <td>40.0</td>\n",
       "      <td>0</td>\n",
       "    </tr>\n",
       "    <tr>\n",
       "      <th>99</th>\n",
       "      <td>2021</td>\n",
       "      <td>6</td>\n",
       "      <td>65.0</td>\n",
       "      <td>46</td>\n",
       "      <td>52.0</td>\n",
       "      <td>3.6</td>\n",
       "      <td>-</td>\n",
       "      <td>8</td>\n",
       "    </tr>\n",
       "    <tr>\n",
       "      <th>100</th>\n",
       "      <td>2021</td>\n",
       "      <td>6</td>\n",
       "      <td>88.0</td>\n",
       "      <td>76</td>\n",
       "      <td>65.0</td>\n",
       "      <td>5.2</td>\n",
       "      <td>5.0</td>\n",
       "      <td>4</td>\n",
       "    </tr>\n",
       "  </tbody>\n",
       "</table>\n",
       "<p>1944 rows × 8 columns</p>\n",
       "</div>"
      ],
      "text/plain": [
       "     Year  Script Type  Rotten Tomatoes  critics  Metacritic  critics  \\\n",
       "1    2022            6                      96.0                   95   \n",
       "2    2022            6                      69.0                   55   \n",
       "3    2022            6                      32.0                   48   \n",
       "4    2022            6                      75.0                   74   \n",
       "5    2022            6                      57.0                   61   \n",
       "..    ...          ...                       ...                  ...   \n",
       "96   2021            6                      25.0                   44   \n",
       "97   2021            6                      92.0                   85   \n",
       "98   2021            6                      67.0                   57   \n",
       "99   2021            6                      65.0                   46   \n",
       "100  2021            6                      88.0                   76   \n",
       "\n",
       "     Average audience  Worldwide Gross ($million) Budget ($million)  \\\n",
       "1                 81.0                        7.8                 -   \n",
       "2                 72.0                       51.8              40.0   \n",
       "3                 57.0                       29.4              80.0   \n",
       "4                 57.0                        6.6              15.0   \n",
       "5                 61.0                       63.3             110.0   \n",
       "..                 ...                        ...               ...   \n",
       "96                53.0                        4.1              29.0   \n",
       "97                82.0                       74.8             100.0   \n",
       "98                80.0                      103.9              40.0   \n",
       "99                52.0                        3.6                 -   \n",
       "100               65.0                        5.2               5.0   \n",
       "\n",
       "     Primary Genre  \n",
       "1                6  \n",
       "2               13  \n",
       "3                4  \n",
       "4                6  \n",
       "5                4  \n",
       "..             ...  \n",
       "96               1  \n",
       "97               9  \n",
       "98               0  \n",
       "99               8  \n",
       "100              4  \n",
       "\n",
       "[1944 rows x 8 columns]"
      ]
     },
     "execution_count": 10,
     "metadata": {},
     "output_type": "execute_result"
    }
   ],
   "source": [
    "from sklearn.preprocessing import LabelEncoder\n",
    "\n",
    "le = LabelEncoder()\n",
    "df['Primary Genre'] = le.fit_transform(df['Primary Genre'])\n",
    "\n",
    "le2 = LabelEncoder()\n",
    "df['Script Type'] = le2.fit_transform(df['Script Type'])\n",
    "df"
   ]
  }
 ],
 "metadata": {
  "kaggle": {
   "accelerator": "none",
   "dataSources": [
    {
     "datasetId": 3913295,
     "sourceId": 6801432,
     "sourceType": "datasetVersion"
    }
   ],
   "dockerImageVersionId": 31089,
   "isGpuEnabled": false,
   "isInternetEnabled": false,
   "language": "python",
   "sourceType": "notebook"
  },
  "kernelspec": {
   "display_name": "Python 3",
   "language": "python",
   "name": "python3"
  },
  "language_info": {
   "codemirror_mode": {
    "name": "ipython",
    "version": 3
   },
   "file_extension": ".py",
   "mimetype": "text/x-python",
   "name": "python",
   "nbconvert_exporter": "python",
   "pygments_lexer": "ipython3",
   "version": "3.11.13"
  }
 },
 "nbformat": 4,
 "nbformat_minor": 4
}
