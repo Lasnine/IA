{
 "cells": [
  {
   "cell_type": "code",
   "execution_count": 4,
   "id": "c2c79799",
   "metadata": {},
   "outputs": [],
   "source": [
    "import numpy as np \n",
    "import pandas as pd \n",
    "import os\n",
    "lista = []\n",
    "for dirname, _, filenames in os.walk('/kaggle/input'):\n",
    "    for filename in filenames:\n",
    "        lista.append(os.path.join(dirname,filename))"
   ]
  },
  {
   "cell_type": "code",
   "execution_count": null,
   "id": "0552d559",
   "metadata": {},
   "outputs": [],
   "source": [
    "dfs = []\n",
    "for item in lista:\n",
    "    df = pd.read_csv(item)\n",
    "    dfs.append(df)\n",
    "df = pd.concat(dfs)"
   ]
  },
  {
   "cell_type": "code",
   "execution_count": null,
   "id": "f941707a",
   "metadata": {},
   "outputs": [],
   "source": [
    "df = df[['Year', 'Script Type', 'Rotten Tomatoes  critics','Metacritic  critics', 'Average critics ',\n",
    "    'Worldwide Gross ($million)','Budget ($million)','Primary Genre']]"
   ]
  },
  {
   "cell_type": "code",
   "execution_count": null,
   "id": "30a81d9f",
   "metadata": {},
   "outputs": [],
   "source": [
    "print(df.columns)"
   ]
  },
  {
   "cell_type": "code",
   "execution_count": null,
   "id": "b8533fe1",
   "metadata": {},
   "outputs": [],
   "source": [
    "cool = df.columns.get_loc('Script Type')\n",
    "df['Script Type'] = df['Script Type'].fillna('unknown')\n",
    "for i in range(len(df)):\n",
    "    value = df.iloc[i, cool]\n",
    "    \n",
    "    if 'original'in value:\n",
    "        value = 'original'\n",
    "    elif 'sequel' in value:\n",
    "        value = 'sequel'\n",
    "    elif 'true story' in value or 'documentary' in value:\n",
    "        value = 'real'\n",
    "    elif 'adaptation' in value:\n",
    "        value = 'adaptation'\n",
    "    elif 'remake' in value:\n",
    "        value = 'remake'\n",
    "    elif 'prequel' in value:\n",
    "        value = 'prequel'\n",
    "    else:\n",
    "        value = 'unknown'\n",
    "        \n",
    "    df.iloc[i, cool] = value\n",
    "df['Script Type'].unique()"
   ]
  },
  {
   "cell_type": "code",
   "execution_count": null,
   "id": "f0beadb2",
   "metadata": {},
   "outputs": [],
   "source": [
    "df['Rotten Tomatoes  critics'].unique()"
   ]
  },
  {
   "cell_type": "code",
   "execution_count": null,
   "id": "990ddadc",
   "metadata": {},
   "outputs": [],
   "source": [
    "coluna = 'Rotten Tomatoes  critics'\n",
    "df = df[df[coluna] != '-']\n",
    "df[coluna].dropna(inplace=True)\n",
    "df[coluna] = pd.to_numeric(df[coluna])\n",
    "df[coluna].unique()"
   ]
  },
  {
   "cell_type": "code",
   "execution_count": null,
   "id": "5c65c2ea",
   "metadata": {},
   "outputs": [],
   "source": [
    "df.isna().sum()"
   ]
  },
  {
   "cell_type": "code",
   "execution_count": null,
   "id": "51a4e82d",
   "metadata": {},
   "outputs": [],
   "source": [
    "coluna = 'Metacritic  critics'\n",
    "df = df[df[coluna] != '-']\n",
    "df[coluna].dropna(inplace=True)\n",
    "df[coluna] = pd.to_numeric(df[coluna])\n",
    "df[coluna].unique()"
   ]
  }
 ],
 "metadata": {
  "kernelspec": {
   "display_name": "base",
   "language": "python",
   "name": "python3"
  },
  "language_info": {
   "codemirror_mode": {
    "name": "ipython",
    "version": 3
   },
   "file_extension": ".py",
   "mimetype": "text/x-python",
   "name": "python",
   "nbconvert_exporter": "python",
   "pygments_lexer": "ipython3",
   "version": "3.9.7"
  }
 },
 "nbformat": 4,
 "nbformat_minor": 5
}
