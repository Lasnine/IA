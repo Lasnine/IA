{
 "cells": [
  {
   "cell_type": "code",
   "execution_count": null,
   "metadata": {
    "_cell_guid": "b1076dfc-b9ad-4769-8c92-a6c4dae69d19",
    "_uuid": "8f2839f25d086af736a60e9eeb907d3b93b6e0e5",
    "execution": {
     "iopub.execute_input": "2025-10-15T19:50:22.423773Z",
     "iopub.status.busy": "2025-10-15T19:50:22.423461Z",
     "iopub.status.idle": "2025-10-15T19:50:22.451409Z",
     "shell.execute_reply": "2025-10-15T19:50:22.450496Z",
     "shell.execute_reply.started": "2025-10-15T19:50:22.423750Z"
    },
    "trusted": true
   },
   "outputs": [],
   "source": [
    "import pandas as pd\n",
    "import numpy as np\n",
    "import matplotlib.pyplot as plt\n",
    "import seaborn as sns\n",
    "import plotly.express as px\n",
    "\n",
    "df = pd.read_csv('Planilha\\coffee.csv') "
   ]
  },
  {
   "cell_type": "code",
   "execution_count": null,
   "metadata": {
    "execution": {
     "iopub.execute_input": "2025-10-15T19:50:35.180827Z",
     "iopub.status.busy": "2025-10-15T19:50:35.180506Z",
     "iopub.status.idle": "2025-10-15T19:50:35.188942Z",
     "shell.execute_reply": "2025-10-15T19:50:35.188236Z",
     "shell.execute_reply.started": "2025-10-15T19:50:35.180794Z"
    },
    "trusted": true
   },
   "outputs": [
    {
     "data": {
      "text/plain": [
       "Data           0\n",
       "Pagamento      0\n",
       "Valor          0\n",
       "Bebida         0\n",
       "Cartao       351\n",
       "Horario        0\n",
       "dtype: int64"
      ]
     },
     "execution_count": 92,
     "metadata": {},
     "output_type": "execute_result"
    }
   ],
   "source": [
    "df.isnull().sum()"
   ]
  },
  {
   "cell_type": "code",
   "execution_count": 89,
   "metadata": {
    "execution": {
     "iopub.execute_input": "2025-10-15T19:50:26.937906Z",
     "iopub.status.busy": "2025-10-15T19:50:26.937577Z",
     "iopub.status.idle": "2025-10-15T19:50:26.945887Z",
     "shell.execute_reply": "2025-10-15T19:50:26.944987Z",
     "shell.execute_reply.started": "2025-10-15T19:50:26.937881Z"
    },
    "trusted": true
   },
   "outputs": [],
   "source": [
    "def extrair(texto):\n",
    "    if isinstance(texto, str) and len(texto) >= 19:\n",
    "        return texto[11:19]\n",
    "    else:\n",
    "        return '00:00:00'\n",
    "df['Horario'] = df['datetime'].apply(extrair)\n",
    "del df['datetime']\n"
   ]
  },
  {
   "cell_type": "code",
   "execution_count": 90,
   "metadata": {
    "execution": {
     "iopub.execute_input": "2025-10-15T19:50:29.033258Z",
     "iopub.status.busy": "2025-10-15T19:50:29.032895Z",
     "iopub.status.idle": "2025-10-15T19:50:29.060040Z",
     "shell.execute_reply": "2025-10-15T19:50:29.059187Z",
     "shell.execute_reply.started": "2025-10-15T19:50:29.033235Z"
    },
    "trusted": true
   },
   "outputs": [],
   "source": [
    "df['date'] = pd.to_datetime(df['date'], errors='coerce')\n",
    "df['date'] = df['date'].dt.strftime('%d/%m/%Y')\n",
    "df = df.rename(columns={'date':'Data', 'cash_type':'Pagamento', 'money': 'Valor', 'coffee_name':'Bebida', 'card':'Cartao'})"
   ]
  },
  {
   "cell_type": "code",
   "execution_count": 98,
   "metadata": {
    "execution": {
     "iopub.execute_input": "2025-10-15T20:18:29.525030Z",
     "iopub.status.busy": "2025-10-15T20:18:29.524093Z",
     "iopub.status.idle": "2025-10-15T20:18:29.537271Z",
     "shell.execute_reply": "2025-10-15T20:18:29.536308Z",
     "shell.execute_reply.started": "2025-10-15T20:18:29.524998Z"
    },
    "trusted": true
   },
   "outputs": [
    {
     "data": {
      "text/plain": [
       "array(['1', '2', '3', '4', '5', '6', '7', '8', '9', '10', '11', '12',\n",
       "       '13', '14', '15', '16', '17', '18', '19', '20', '21', '22', '23',\n",
       "       '24', '25', '26', '27', '28', '29', '30', '31', '32', '33', '34'],\n",
       "      dtype=object)"
      ]
     },
     "execution_count": 98,
     "metadata": {},
     "output_type": "execute_result"
    }
   ],
   "source": [
    "mapping = {\n",
    "    'Tea': '1',\n",
    "    'Espresso': '2', \n",
    "    'Chocolate with coffee': '3', \n",
    "    'Chocolate with milk': '4',\n",
    "    'Coffee with Irish whiskey': '5', \n",
    "    'Irish whiskey with milk': '6',\n",
    "    'Double Irish whiskey': '7', \n",
    "    'Double espresso': '8', \n",
    "    'Americano with milk': '9',\n",
    "    'Cappuccino': '10', \n",
    "    'Double espresso with milk': '11',\n",
    "    'Caramel with Irish whiskey': '12', \n",
    "    'Latte': '13', \n",
    "    'Americano': '14',\n",
    "    'Super chocolate': '15', \n",
    "    'Double vanilla': '16', \n",
    "    'Mochaccino': '17',\n",
    "    'Caramel with chocolate': '18', \n",
    "    'Irish whiskey': '19', \n",
    "    'Caramel coffee': '20',\n",
    "    'Vanilla with Irish whiskey': '21', \n",
    "    'Chocolate': '22', \n",
    "    'Caramel with milk': '23',\n",
    "    'Coffee with chocolate': '24', \n",
    "    'Irish with chocolate': '25', \n",
    "    'Vanilla coffee': '26',\n",
    "    'Double ristretto': '27', \n",
    "    'Hot milkshake': '28', \n",
    "    'Double chocolate': '29', \n",
    "    'Caramel': '30',\n",
    "    'Hot Chocolate': '31', \n",
    "    'Americano with Milk': '32', \n",
    "    'Cocoa': '33', \n",
    "    'Cortado': '34'\n",
    "}\n",
    "df['NumeroBebida'] = df['Bebida'].astype(str)\n",
    "df['NumeroBebida'] = df['NumeroBebida'].map(mapping)\n",
    "df['NumeroBebida'].unique()"
   ]
  },
  {
   "cell_type": "code",
   "execution_count": 102,
   "metadata": {
    "execution": {
     "iopub.execute_input": "2025-10-15T20:20:41.337388Z",
     "iopub.status.busy": "2025-10-15T20:20:41.337070Z",
     "iopub.status.idle": "2025-10-15T20:20:41.351428Z",
     "shell.execute_reply": "2025-10-15T20:20:41.350422Z",
     "shell.execute_reply.started": "2025-10-15T20:20:41.337366Z"
    },
    "trusted": true
   },
   "outputs": [
    {
     "data": {
      "text/html": [
       "<div>\n",
       "<style scoped>\n",
       "    .dataframe tbody tr th:only-of-type {\n",
       "        vertical-align: middle;\n",
       "    }\n",
       "\n",
       "    .dataframe tbody tr th {\n",
       "        vertical-align: top;\n",
       "    }\n",
       "\n",
       "    .dataframe thead th {\n",
       "        text-align: right;\n",
       "    }\n",
       "</style>\n",
       "<table border=\"1\" class=\"dataframe\">\n",
       "  <thead>\n",
       "    <tr style=\"text-align: right;\">\n",
       "      <th></th>\n",
       "      <th>Data</th>\n",
       "      <th>Horario</th>\n",
       "      <th>Bebida</th>\n",
       "      <th>NumeroBebida</th>\n",
       "      <th>Valor</th>\n",
       "      <th>Pagamento</th>\n",
       "      <th>Cartao</th>\n",
       "    </tr>\n",
       "  </thead>\n",
       "  <tbody>\n",
       "    <tr>\n",
       "      <th>0</th>\n",
       "      <td>08/02/2025</td>\n",
       "      <td>14:26:04</td>\n",
       "      <td>Tea</td>\n",
       "      <td>1</td>\n",
       "      <td>15.00</td>\n",
       "      <td>cash</td>\n",
       "      <td>NaN</td>\n",
       "    </tr>\n",
       "    <tr>\n",
       "      <th>1</th>\n",
       "      <td>08/02/2025</td>\n",
       "      <td>14:28:26</td>\n",
       "      <td>Tea</td>\n",
       "      <td>1</td>\n",
       "      <td>15.00</td>\n",
       "      <td>cash</td>\n",
       "      <td>NaN</td>\n",
       "    </tr>\n",
       "    <tr>\n",
       "      <th>2</th>\n",
       "      <td>08/02/2025</td>\n",
       "      <td>14:33:04</td>\n",
       "      <td>Espresso</td>\n",
       "      <td>2</td>\n",
       "      <td>20.00</td>\n",
       "      <td>card</td>\n",
       "      <td>NaN</td>\n",
       "    </tr>\n",
       "    <tr>\n",
       "      <th>3</th>\n",
       "      <td>08/02/2025</td>\n",
       "      <td>15:51:04</td>\n",
       "      <td>Chocolate with coffee</td>\n",
       "      <td>3</td>\n",
       "      <td>30.00</td>\n",
       "      <td>card</td>\n",
       "      <td>NaN</td>\n",
       "    </tr>\n",
       "    <tr>\n",
       "      <th>4</th>\n",
       "      <td>08/02/2025</td>\n",
       "      <td>16:35:01</td>\n",
       "      <td>Chocolate with milk</td>\n",
       "      <td>4</td>\n",
       "      <td>27.00</td>\n",
       "      <td>cash</td>\n",
       "      <td>NaN</td>\n",
       "    </tr>\n",
       "    <tr>\n",
       "      <th>...</th>\n",
       "      <td>...</td>\n",
       "      <td>...</td>\n",
       "      <td>...</td>\n",
       "      <td>...</td>\n",
       "      <td>...</td>\n",
       "      <td>...</td>\n",
       "      <td>...</td>\n",
       "    </tr>\n",
       "    <tr>\n",
       "      <th>3631</th>\n",
       "      <td>23/03/2025</td>\n",
       "      <td>10:34:54</td>\n",
       "      <td>Cappuccino</td>\n",
       "      <td>10</td>\n",
       "      <td>35.76</td>\n",
       "      <td>card</td>\n",
       "      <td>ANON-0000-0000-1158</td>\n",
       "    </tr>\n",
       "    <tr>\n",
       "      <th>3632</th>\n",
       "      <td>23/03/2025</td>\n",
       "      <td>14:43:37</td>\n",
       "      <td>Cocoa</td>\n",
       "      <td>33</td>\n",
       "      <td>35.76</td>\n",
       "      <td>card</td>\n",
       "      <td>ANON-0000-0000-1315</td>\n",
       "    </tr>\n",
       "    <tr>\n",
       "      <th>3633</th>\n",
       "      <td>23/03/2025</td>\n",
       "      <td>14:44:16</td>\n",
       "      <td>Cocoa</td>\n",
       "      <td>33</td>\n",
       "      <td>35.76</td>\n",
       "      <td>card</td>\n",
       "      <td>ANON-0000-0000-1315</td>\n",
       "    </tr>\n",
       "    <tr>\n",
       "      <th>3634</th>\n",
       "      <td>23/03/2025</td>\n",
       "      <td>15:47:28</td>\n",
       "      <td>Americano</td>\n",
       "      <td>14</td>\n",
       "      <td>25.96</td>\n",
       "      <td>card</td>\n",
       "      <td>ANON-0000-0000-1316</td>\n",
       "    </tr>\n",
       "    <tr>\n",
       "      <th>3635</th>\n",
       "      <td>23/03/2025</td>\n",
       "      <td>18:11:38</td>\n",
       "      <td>Latte</td>\n",
       "      <td>13</td>\n",
       "      <td>35.76</td>\n",
       "      <td>card</td>\n",
       "      <td>ANON-0000-0000-1275</td>\n",
       "    </tr>\n",
       "  </tbody>\n",
       "</table>\n",
       "<p>3898 rows × 7 columns</p>\n",
       "</div>"
      ],
      "text/plain": [
       "            Data   Horario                 Bebida NumeroBebida  Valor  \\\n",
       "0     08/02/2025  14:26:04                    Tea            1  15.00   \n",
       "1     08/02/2025  14:28:26                    Tea            1  15.00   \n",
       "2     08/02/2025  14:33:04               Espresso            2  20.00   \n",
       "3     08/02/2025  15:51:04  Chocolate with coffee            3  30.00   \n",
       "4     08/02/2025  16:35:01    Chocolate with milk            4  27.00   \n",
       "...          ...       ...                    ...          ...    ...   \n",
       "3631  23/03/2025  10:34:54             Cappuccino           10  35.76   \n",
       "3632  23/03/2025  14:43:37                  Cocoa           33  35.76   \n",
       "3633  23/03/2025  14:44:16                  Cocoa           33  35.76   \n",
       "3634  23/03/2025  15:47:28              Americano           14  25.96   \n",
       "3635  23/03/2025  18:11:38                  Latte           13  35.76   \n",
       "\n",
       "     Pagamento               Cartao  \n",
       "0         cash                  NaN  \n",
       "1         cash                  NaN  \n",
       "2         card                  NaN  \n",
       "3         card                  NaN  \n",
       "4         cash                  NaN  \n",
       "...        ...                  ...  \n",
       "3631      card  ANON-0000-0000-1158  \n",
       "3632      card  ANON-0000-0000-1315  \n",
       "3633      card  ANON-0000-0000-1315  \n",
       "3634      card  ANON-0000-0000-1316  \n",
       "3635      card  ANON-0000-0000-1275  \n",
       "\n",
       "[3898 rows x 7 columns]"
      ]
     },
     "execution_count": 102,
     "metadata": {},
     "output_type": "execute_result"
    }
   ],
   "source": [
    "df = df[['Data', 'Horario', 'Bebida', 'NumeroBebida', 'Valor', 'Pagamento', 'Cartao']]\n",
    "df"
   ]
  },
  {
   "cell_type": "code",
   "execution_count": null,
   "metadata": {
    "trusted": true
   },
   "outputs": [],
   "source": []
  }
 ],
 "metadata": {
  "kaggle": {
   "accelerator": "none",
   "dataSources": [
    {
     "datasetId": 5328600,
     "sourceId": 11159944,
     "sourceType": "datasetVersion"
    }
   ],
   "dockerImageVersionId": 31153,
   "isGpuEnabled": false,
   "isInternetEnabled": false,
   "language": "python",
   "sourceType": "notebook"
  },
  "kernelspec": {
   "display_name": "Python 3",
   "language": "python",
   "name": "python3"
  },
  "language_info": {
   "codemirror_mode": {
    "name": "ipython",
    "version": 3
   },
   "file_extension": ".py",
   "mimetype": "text/x-python",
   "name": "python",
   "nbconvert_exporter": "python",
   "pygments_lexer": "ipython3",
   "version": "3.11.13"
  }
 },
 "nbformat": 4,
 "nbformat_minor": 4
}
